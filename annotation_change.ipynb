{
 "cells": [
  {
   "cell_type": "markdown",
   "id": "b40d80d3-b691-42e7-b609-96b27bae9512",
   "metadata": {},
   "source": [
    "# txt to xml"
   ]
  },
  {
   "cell_type": "code",
   "execution_count": 1,
   "id": "83280629-37dd-4d6b-b8e8-33757caee073",
   "metadata": {},
   "outputs": [],
   "source": [
    "from tqdm import tqdm\n",
    "from PIL import Image\n",
    "from glob import glob\n",
    "import numpy as np\n",
    "import shutil\n",
    "from sklearn.model_selection import train_test_split"
   ]
  },
  {
   "cell_type": "code",
   "execution_count": 2,
   "id": "0c3a98de-7ea1-4b1c-877d-020e16124def",
   "metadata": {},
   "outputs": [],
   "source": [
    "path = glob('/media/localley/D/data/images/*.jpg')"
   ]
  },
  {
   "cell_type": "code",
   "execution_count": 4,
   "id": "a401b75d-fbb7-4e72-9032-8fdb1a5e8eff",
   "metadata": {},
   "outputs": [
    {
     "name": "stderr",
     "output_type": "stream",
     "text": [
      "100%|██████████| 33017/33017 [10:08<00:00, 54.26it/s]\n"
     ]
    }
   ],
   "source": [
    "for i in tqdm(path):\n",
    "    image = Image.open(i)\n",
    "    name = i.split('/')[-1]\n",
    "    img = np.array(image)\n",
    "    h, w = img.shape[0], img.shape[1]\n",
    "    with open(i.replace('jpg','txt'), 'r') as f:\n",
    "        lines = f.readlines()\n",
    "        g = open(i.replace('jpg','xml'), 'w')\n",
    "        g.write('<annotation>\\n')\n",
    "        g.write('\t<folder>images</folder>\\n')\n",
    "        g.write('\t<filename>{}</filename>\\n'.format(name))\n",
    "        g.write('\t<path>{}</path>\\n'.format(i))\n",
    "        g.write('\t<source>\\n')\n",
    "        g.write('\t\t<database>Unknown</database>\\n')\n",
    "        g.write('\t</source>\\n')\n",
    "        g.write('\t<size>\\n')\n",
    "        g.write('\t\t<width>{}</width>\\n'.format(w))\n",
    "        g.write('\t\t<height>{}</height>\\n'.format(h))\n",
    "        g.write('\t\t<depth>3</depth>\\n')\n",
    "        g.write('\t</size>\\n')\n",
    "        g.write('\t<segmented>0</segmented>\\n')\n",
    "        for line in lines:\n",
    "            li = line.split()\n",
    "            if li[0] == '0':\n",
    "                cate = 'dog'\n",
    "            elif li[0] == '1':\n",
    "                cate = 'person'\n",
    "            else:\n",
    "                cate = 'cat'\n",
    "            xmin = int((float(li[1]) - float(li[3])/2) * w)\n",
    "            ymin = int((float(li[2]) - float(li[4])/2) * h)\n",
    "            xmax = int((float(li[1]) + float(li[3])/2) * w)\n",
    "            ymax = int((float(li[2]) + float(li[4])/2) * h)\n",
    "            if float(li[1]) * float(li[2]) < 1/(16*16):\n",
    "                continue\n",
    "            g.write('\t<object>\\n')\n",
    "            g.write('\t\t<name>{}</name>\\n'.format(cate))\n",
    "            g.write('\t\t<pose>Unspecified</pose>\\n')\n",
    "            g.write('\t\t<truncated>0</truncated>\\n')\n",
    "            g.write('\t\t<difficult>0</difficult>\\n')\n",
    "            g.write('\t\t<bndbox>\\n')\n",
    "            g.write('\t\t\t<xmin>{}</xmin>\\n'.format(xmin))\n",
    "            g.write('\t\t\t<ymin>{}</ymin>\\n'.format(ymin))\n",
    "            g.write('\t\t\t<xmax>{}</xmax>\\n'.format(xmax))\n",
    "            g.write('\t\t\t<ymax>{}</ymax>\\n'.format(ymax))\n",
    "            g.write('\t\t</bndbox>\\n')\n",
    "            g.write('\t</object>\\n')\n",
    "        g.write('</annotation>')\n",
    "    g.close()\n",
    "    f.close()"
   ]
  },
  {
   "cell_type": "markdown",
   "id": "b23e9198-bf2d-433d-95a0-740866f28d2d",
   "metadata": {},
   "source": [
    "# txt to yolov5 dataset"
   ]
  },
  {
   "cell_type": "code",
   "execution_count": 5,
   "id": "5451096b-14e2-4382-ba2b-415ef946e3e5",
   "metadata": {},
   "outputs": [],
   "source": [
    "train, test = train_test_split(path, random_state = 123)"
   ]
  },
  {
   "cell_type": "code",
   "execution_count": 6,
   "id": "58380522-be51-452e-8eab-27026a896b4f",
   "metadata": {},
   "outputs": [
    {
     "name": "stderr",
     "output_type": "stream",
     "text": [
      "100%|██████████| 24762/24762 [00:57<00:00, 433.60it/s] \n"
     ]
    }
   ],
   "source": [
    "for i in tqdm(train):\n",
    "    shutil.copy(i,'/media/localley/D/data/v5image/image/train')\n",
    "    shutil.copy(i.replace('jpg','txt'),'/media/localley/D/data/v5image/image/train')"
   ]
  },
  {
   "cell_type": "code",
   "execution_count": 7,
   "id": "baa13d27-2b66-406d-8c13-a4bdb0010064",
   "metadata": {},
   "outputs": [
    {
     "name": "stderr",
     "output_type": "stream",
     "text": [
      "100%|██████████| 8255/8255 [00:58<00:00, 141.10it/s]\n"
     ]
    }
   ],
   "source": [
    "for i in tqdm(test):\n",
    "    shutil.copy(i,'/media/localley/D/data/v5image/image/test')\n",
    "    shutil.copy(i.replace('jpg','txt'),'/media/localley/D/data/v5image/image/test')"
   ]
  },
  {
   "cell_type": "code",
   "execution_count": null,
   "id": "1759bc36-5d12-4fd0-850b-ae0ed5d7d31a",
   "metadata": {},
   "outputs": [],
   "source": []
  },
  {
   "cell_type": "markdown",
   "id": "5ac8a8df-60f2-4ad4-8ad5-f8b794ff1226",
   "metadata": {},
   "source": [
    "# voc data format"
   ]
  },
  {
   "cell_type": "code",
   "execution_count": 6,
   "id": "b1fb10d9-f414-4176-a7fc-c7d109419464",
   "metadata": {},
   "outputs": [],
   "source": [
    "path = glob('/media/localley/D/data/voc_pet/images/*.jpg')"
   ]
  },
  {
   "cell_type": "code",
   "execution_count": 7,
   "id": "43c0d1ef-dc33-44b7-b10f-527b50e0c9cc",
   "metadata": {},
   "outputs": [],
   "source": [
    "train, test = train_test_split(path, train_size = 0.8, random_state = 123)"
   ]
  },
  {
   "cell_type": "code",
   "execution_count": 8,
   "id": "0cd0b201-a112-4879-b6ae-613cdf4cfcd8",
   "metadata": {},
   "outputs": [],
   "source": [
    "train, val = train_test_split(train, test_size = 0.125, random_state = 123)"
   ]
  },
  {
   "cell_type": "code",
   "execution_count": 9,
   "id": "0f8893cf-9a3d-490f-918b-a72edd4fa90e",
   "metadata": {},
   "outputs": [
    {
     "data": {
      "text/plain": [
       "(23111, 6604, 3302)"
      ]
     },
     "execution_count": 9,
     "metadata": {},
     "output_type": "execute_result"
    }
   ],
   "source": [
    "len(train), len(test), len(val)"
   ]
  },
  {
   "cell_type": "code",
   "execution_count": 13,
   "id": "5b477fa8-ed73-40be-a288-fb1a0bb0901d",
   "metadata": {},
   "outputs": [
    {
     "name": "stderr",
     "output_type": "stream",
     "text": [
      "100%|██████████| 23111/23111 [00:00<00:00, 853567.68it/s]\n"
     ]
    }
   ],
   "source": [
    "with open('/media/localley/D/data/voc_pet/train.txt','w') as f:\n",
    "    for name in tqdm(train):\n",
    "        f.write(name.split('/')[-1].replace('.jpg',''))\n",
    "        f.write('\\n')\n",
    "f.close()"
   ]
  },
  {
   "cell_type": "code",
   "execution_count": 14,
   "id": "0e1eeeab-5184-440e-949a-b5e649ccda03",
   "metadata": {},
   "outputs": [
    {
     "name": "stderr",
     "output_type": "stream",
     "text": [
      "100%|██████████| 6604/6604 [00:00<00:00, 964422.67it/s]\n"
     ]
    }
   ],
   "source": [
    "with open('/media/localley/D/data/voc_pet/test.txt','w') as f:\n",
    "    for name in tqdm(test):\n",
    "        f.write(name.split('/')[-1].replace('.jpg',''))\n",
    "        f.write('\\n')\n",
    "f.close()"
   ]
  },
  {
   "cell_type": "code",
   "execution_count": 15,
   "id": "843995c6-d254-4120-81bb-6ca44fb05d18",
   "metadata": {},
   "outputs": [
    {
     "name": "stderr",
     "output_type": "stream",
     "text": [
      "100%|██████████| 3302/3302 [00:00<00:00, 892543.13it/s]\n"
     ]
    }
   ],
   "source": [
    "with open('/media/localley/D/data/voc_pet/val.txt','w') as f:\n",
    "    for name in tqdm(val):\n",
    "        f.write(name.split('/')[-1].replace('.jpg',''))\n",
    "        f.write('\\n')\n",
    "f.close()"
   ]
  },
  {
   "cell_type": "code",
   "execution_count": null,
   "id": "475ae413-3ea0-4500-becd-1b9e03aa7536",
   "metadata": {},
   "outputs": [],
   "source": []
  },
  {
   "cell_type": "code",
   "execution_count": null,
   "id": "7bc83616-f403-407a-9d3e-263fd3718d58",
   "metadata": {},
   "outputs": [],
   "source": []
  },
  {
   "cell_type": "code",
   "execution_count": null,
   "id": "72bce19b-ea6e-4226-aefd-492efe3ed681",
   "metadata": {},
   "outputs": [],
   "source": []
  },
  {
   "cell_type": "code",
   "execution_count": null,
   "id": "108bc1da-77c7-43e4-bf53-71c8b27e5765",
   "metadata": {},
   "outputs": [],
   "source": []
  },
  {
   "cell_type": "code",
   "execution_count": null,
   "id": "977392b2-8e80-463d-a037-59867efd9349",
   "metadata": {},
   "outputs": [],
   "source": []
  },
  {
   "cell_type": "code",
   "execution_count": null,
   "id": "4be4644b-5e33-48cf-9f81-4e5a6784b8ac",
   "metadata": {},
   "outputs": [],
   "source": []
  },
  {
   "cell_type": "code",
   "execution_count": null,
   "id": "9c34b91d-76a0-4c74-b103-520af1d00b83",
   "metadata": {},
   "outputs": [],
   "source": []
  },
  {
   "cell_type": "code",
   "execution_count": null,
   "id": "40648270-8b2f-426c-9bf6-e1707480550a",
   "metadata": {},
   "outputs": [],
   "source": []
  }
 ],
 "metadata": {
  "kernelspec": {
   "display_name": "pet",
   "language": "python",
   "name": "pet"
  },
  "language_info": {
   "codemirror_mode": {
    "name": "ipython",
    "version": 3
   },
   "file_extension": ".py",
   "mimetype": "text/x-python",
   "name": "python",
   "nbconvert_exporter": "python",
   "pygments_lexer": "ipython3",
   "version": "3.8.8"
  }
 },
 "nbformat": 4,
 "nbformat_minor": 5
}
